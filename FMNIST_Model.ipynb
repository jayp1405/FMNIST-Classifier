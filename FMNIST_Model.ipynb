{
 "cells": [
  {
   "cell_type": "code",
   "execution_count": 5,
   "metadata": {},
   "outputs": [
    {
     "name": "stdout",
     "output_type": "stream",
     "text": [
      "Predicted class: tensor([3], device='cuda:0')\n"
     ]
    }
   ],
   "source": [
    "import os\n",
    "import torch\n",
    "from torch import nn\n",
    "from torch.utils.data import DataLoader\n",
    "from torchvision import datasets, transforms\n",
    "\n",
    "#device agnostic code, can run GPUs \n",
    "device = (\n",
    "    \"cuda\"\n",
    "    if torch.cuda.is_available()\n",
    "    else \"mps\"\n",
    "    if torch.backends.mps.is_available()\n",
    "    else \"cpu\"\n",
    ")\n",
    "\n",
    "#Class to Build Model, here we initialize the neural network layers\n",
    "class NeuralNetwork(nn.Module):\n",
    "    def __init__(self):\n",
    "        super().__init__()\n",
    "        self.flatten = nn.Flatten()               #2D 28x28 tensor converted into 1D 784 tensor, use the flatten model but we can easily change\n",
    "        self.linear_relu_stack = nn.Sequential(\n",
    "            nn.Linear(784, 512),                  #take in 28x28 input and output 512 \n",
    "            nn.ReLU(),\n",
    "            nn.Linear(512, 512),                  #input 512 layer, output 512 layer\n",
    "            nn.ReLU(),\n",
    "            nn.Linear(512, 10)                    #this is the output layer, 10-dimnesional tensor\n",
    "            )\n",
    "        \n",
    "    def forward(self, x):\n",
    "        x = self.flatten(x)                       #we are flattening the 2d tensor into a 1d tensor\n",
    "        logits = self.linear_relu_stack(x)        #create a 10 unit 1D-tensor\n",
    "        return logits\n",
    "    \n",
    "model = NeuralNetwork().to(device)\n",
    "\n",
    "X = torch.rand(1, 28, 28, device=device)          #create a single random tensor with 28x28 features\n",
    "logits = model(X)                           \n",
    "pred_probab = nn.Softmax(dim=1)(logits)           #add our logits tensor into SoftMax which will return tensor with 10 probabilities\n",
    "y_pred = pred_probab.argmax(1)                    #Find the highest prob object inside of our tensor\n",
    "print(f\"Predicted class: {y_pred}\")\n",
    "\n"
   ]
  }
 ],
 "metadata": {
  "kernelspec": {
   "display_name": "base",
   "language": "python",
   "name": "python3"
  },
  "language_info": {
   "codemirror_mode": {
    "name": "ipython",
    "version": 3
   },
   "file_extension": ".py",
   "mimetype": "text/x-python",
   "name": "python",
   "nbconvert_exporter": "python",
   "pygments_lexer": "ipython3",
   "version": "3.10.13"
  }
 },
 "nbformat": 4,
 "nbformat_minor": 2
}
