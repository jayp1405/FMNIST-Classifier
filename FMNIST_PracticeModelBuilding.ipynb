{
 "cells": [
  {
   "cell_type": "code",
   "execution_count": 1,
   "metadata": {},
   "outputs": [
    {
     "name": "stdout",
     "output_type": "stream",
     "text": [
      "Downloading http://fashion-mnist.s3-website.eu-central-1.amazonaws.com/train-images-idx3-ubyte.gz\n",
      "Downloading http://fashion-mnist.s3-website.eu-central-1.amazonaws.com/train-images-idx3-ubyte.gz to /blue/aiinmedicine/jpatel6/FMNIST-Classifier/FashionMNIST/raw/train-images-idx3-ubyte.gz\n"
     ]
    },
    {
     "name": "stderr",
     "output_type": "stream",
     "text": [
      "100%|██████████| 26421880/26421880 [00:02<00:00, 9979655.25it/s] \n"
     ]
    },
    {
     "name": "stdout",
     "output_type": "stream",
     "text": [
      "Extracting /blue/aiinmedicine/jpatel6/FMNIST-Classifier/FashionMNIST/raw/train-images-idx3-ubyte.gz to /blue/aiinmedicine/jpatel6/FMNIST-Classifier/FashionMNIST/raw\n",
      "\n",
      "Downloading http://fashion-mnist.s3-website.eu-central-1.amazonaws.com/train-labels-idx1-ubyte.gz\n",
      "Downloading http://fashion-mnist.s3-website.eu-central-1.amazonaws.com/train-labels-idx1-ubyte.gz to /blue/aiinmedicine/jpatel6/FMNIST-Classifier/FashionMNIST/raw/train-labels-idx1-ubyte.gz\n"
     ]
    },
    {
     "name": "stderr",
     "output_type": "stream",
     "text": [
      "100%|██████████| 29515/29515 [00:00<00:00, 283809.54it/s]\n"
     ]
    },
    {
     "name": "stdout",
     "output_type": "stream",
     "text": [
      "Extracting /blue/aiinmedicine/jpatel6/FMNIST-Classifier/FashionMNIST/raw/train-labels-idx1-ubyte.gz to /blue/aiinmedicine/jpatel6/FMNIST-Classifier/FashionMNIST/raw\n",
      "\n",
      "Downloading http://fashion-mnist.s3-website.eu-central-1.amazonaws.com/t10k-images-idx3-ubyte.gz\n",
      "Downloading http://fashion-mnist.s3-website.eu-central-1.amazonaws.com/t10k-images-idx3-ubyte.gz to /blue/aiinmedicine/jpatel6/FMNIST-Classifier/FashionMNIST/raw/t10k-images-idx3-ubyte.gz\n"
     ]
    },
    {
     "name": "stderr",
     "output_type": "stream",
     "text": [
      "100%|██████████| 4422102/4422102 [00:01<00:00, 4095502.06it/s]\n"
     ]
    },
    {
     "name": "stdout",
     "output_type": "stream",
     "text": [
      "Extracting /blue/aiinmedicine/jpatel6/FMNIST-Classifier/FashionMNIST/raw/t10k-images-idx3-ubyte.gz to /blue/aiinmedicine/jpatel6/FMNIST-Classifier/FashionMNIST/raw\n",
      "\n",
      "Downloading http://fashion-mnist.s3-website.eu-central-1.amazonaws.com/t10k-labels-idx1-ubyte.gz\n",
      "Downloading http://fashion-mnist.s3-website.eu-central-1.amazonaws.com/t10k-labels-idx1-ubyte.gz to /blue/aiinmedicine/jpatel6/FMNIST-Classifier/FashionMNIST/raw/t10k-labels-idx1-ubyte.gz\n"
     ]
    },
    {
     "name": "stderr",
     "output_type": "stream",
     "text": [
      "100%|██████████| 5148/5148 [00:00<00:00, 5490027.20it/s]"
     ]
    },
    {
     "name": "stdout",
     "output_type": "stream",
     "text": [
      "Extracting /blue/aiinmedicine/jpatel6/FMNIST-Classifier/FashionMNIST/raw/t10k-labels-idx1-ubyte.gz to /blue/aiinmedicine/jpatel6/FMNIST-Classifier/FashionMNIST/raw\n",
      "\n"
     ]
    },
    {
     "name": "stderr",
     "output_type": "stream",
     "text": [
      "\n"
     ]
    }
   ],
   "source": [
    "import torch\n",
    "from torch.utils.data import Dataset # need to work with custom datasets\n",
    "from torchvision import datasets # import premade datasets\n",
    "from torchvision.transforms import ToTensor # will use to convert data to tensors\n",
    "import matplotlib as plt # will use to visualize dataset\n",
    "\n",
    "\n",
    "#import training data\n",
    "training_data = datasets.FashionMNIST(\n",
    "    root = \"/blue/aiinmedicine/jpatel6/FMNIST-Classifier\", #this is the path to directory where data will be stored (is my directory on hipergator)\n",
    "    train = True,  #this will be the training dataset\n",
    "    download = True,  #need to download dataset from 'net\n",
    "    transform = ToTensor()\n",
    ")\n",
    "\n",
    "#import testing data\n",
    "test_data = datasets.FashionMNIST(\n",
    "    root = \"/blue/aiinmedicine/jpatel6/FMNIST-Classifier\", #path to my directory in hipergator\n",
    "    train = False, #this is not the training dataset\n",
    "    download = True, #need to download dataset from the 'net\n",
    "    transform = ToTensor()\n",
    ")\n",
    "\n",
    "\n",
    "\n",
    "\n",
    "\n",
    "\n"
   ]
  }
 ],
 "metadata": {
  "kernelspec": {
   "display_name": "base",
   "language": "python",
   "name": "python3"
  },
  "language_info": {
   "codemirror_mode": {
    "name": "ipython",
    "version": 3
   },
   "file_extension": ".py",
   "mimetype": "text/x-python",
   "name": "python",
   "nbconvert_exporter": "python",
   "pygments_lexer": "ipython3",
   "version": "3.10.13"
  }
 },
 "nbformat": 4,
 "nbformat_minor": 2
}
